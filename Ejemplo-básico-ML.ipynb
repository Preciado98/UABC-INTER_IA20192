{
 "cells": [
  {
   "cell_type": "code",
   "execution_count": 1,
   "metadata": {},
   "outputs": [
    {
     "name": "stdout",
     "output_type": "stream",
     "text": [
      "[[35  0  0]\n",
      " [ 0 32  3]\n",
      " [ 0  2 33]]\n",
      "Acc:  0.9523809523809523\n",
      "P:  0.9526143790849674\n",
      "R:  0.9523809523809522\n",
      "F1:  0.9523712322242633\n"
     ]
    }
   ],
   "source": [
    "from sklearn import datasets\n",
    "from sklearn.preprocessing import StandardScaler\n",
    "from sklearn.linear_model import LogisticRegression\n",
    "from sklearn.model_selection import train_test_split\n",
    "from sklearn.metrics import accuracy_score, confusion_matrix, precision_score, recall_score, f1_score\n",
    "\n",
    "\n",
    "\n",
    "iris = datasets.load_iris()\n",
    "X = iris.data\n",
    "y = iris.target\n",
    "\n",
    "X_train, X_test, y_train, y_test = train_test_split(X, y, test_size=0.7)\n",
    "\n",
    "reg_log = LogisticRegression(solver='lbfgs', multi_class='auto')\n",
    "reg_log.fit(X_train, y_train)\n",
    "y_pred = reg_log.predict(X_test)\n",
    "\n",
    "cnf_matrix = confusion_matrix(y_test, y_pred)\n",
    "print(cnf_matrix)\n",
    "\n",
    "print('Acc: ',accuracy_score(y_test, y_pred))\n",
    "print('P: ',precision_score(y_test, y_pred, average='macro'))\n",
    "print('R: ',recall_score(y_test, y_pred, average='macro'))\n",
    "print('F1: ',f1_score(y_test, y_pred, average='macro'))"
   ]
  },
  {
   "cell_type": "code",
   "execution_count": 2,
   "metadata": {},
   "outputs": [
    {
     "name": "stdout",
     "output_type": "stream",
     "text": [
      "\n",
      "\n",
      "Fold 1\n",
      "\n",
      "[[12  0  0]\n",
      " [ 0 11  2]\n",
      " [ 0  2 11]]\n",
      "Acc:  0.8947368421052632\n",
      "P:  0.8974358974358975\n",
      "R:  0.8974358974358975\n",
      "F1:  0.8974358974358975\n",
      "\n",
      "\n",
      "Fold 2\n",
      "\n",
      "[[14  0  0]\n",
      " [ 0 13  0]\n",
      " [ 0  0 11]]\n",
      "Acc:  1.0\n",
      "P:  1.0\n",
      "R:  1.0\n",
      "F1:  1.0\n",
      "\n",
      "\n",
      "Fold 3\n",
      "\n",
      "[[ 9  0  0]\n",
      " [ 0 16  0]\n",
      " [ 0  0 12]]\n",
      "Acc:  1.0\n",
      "P:  1.0\n",
      "R:  1.0\n",
      "F1:  1.0\n",
      "\n",
      "\n",
      "Fold 4\n",
      "\n",
      "[[15  0  0]\n",
      " [ 0  7  1]\n",
      " [ 0  0 14]]\n",
      "Acc:  0.972972972972973\n",
      "P:  0.9777777777777779\n",
      "R:  0.9583333333333334\n",
      "F1:  0.9662835249042145\n"
     ]
    },
    {
     "name": "stderr",
     "output_type": "stream",
     "text": [
      "C:\\Users\\maldo\\Anaconda3\\envs\\pt37\\lib\\site-packages\\sklearn\\linear_model\\_logistic.py:940: ConvergenceWarning: lbfgs failed to converge (status=1):\n",
      "STOP: TOTAL NO. of ITERATIONS REACHED LIMIT.\n",
      "\n",
      "Increase the number of iterations (max_iter) or scale the data as shown in:\n",
      "    https://scikit-learn.org/stable/modules/preprocessing.html\n",
      "Please also refer to the documentation for alternative solver options:\n",
      "    https://scikit-learn.org/stable/modules/linear_model.html#logistic-regression\n",
      "  extra_warning_msg=_LOGISTIC_SOLVER_CONVERGENCE_MSG)\n",
      "C:\\Users\\maldo\\Anaconda3\\envs\\pt37\\lib\\site-packages\\sklearn\\linear_model\\_logistic.py:940: ConvergenceWarning: lbfgs failed to converge (status=1):\n",
      "STOP: TOTAL NO. of ITERATIONS REACHED LIMIT.\n",
      "\n",
      "Increase the number of iterations (max_iter) or scale the data as shown in:\n",
      "    https://scikit-learn.org/stable/modules/preprocessing.html\n",
      "Please also refer to the documentation for alternative solver options:\n",
      "    https://scikit-learn.org/stable/modules/linear_model.html#logistic-regression\n",
      "  extra_warning_msg=_LOGISTIC_SOLVER_CONVERGENCE_MSG)\n"
     ]
    }
   ],
   "source": [
    "from sklearn.model_selection import KFold\n",
    "kf = KFold(n_splits=4, shuffle=True)\n",
    "\n",
    "i = 1\n",
    "for train_index, test_index in kf.split(X):\n",
    "    #print(\"TRAIN:\", train_index, \"TEST:\", test_index)\n",
    "    print('\\n\\nFold {}\\n'.format(i))\n",
    "    X_train, X_test = X[train_index], X[test_index]\n",
    "    y_train, y_test = y[train_index], y[test_index]\n",
    "    reg_log = LogisticRegression(solver='lbfgs', multi_class='auto')\n",
    "    reg_log.fit(X_train, y_train)\n",
    "    y_pred = reg_log.predict(X_test)\n",
    "\n",
    "    cnf_matrix = confusion_matrix(y_test, y_pred)\n",
    "    print(cnf_matrix)\n",
    "\n",
    "    print('Acc: ',accuracy_score(y_test, y_pred))\n",
    "    print('P: ',precision_score(y_test, y_pred, average='macro'))\n",
    "    print('R: ',recall_score(y_test, y_pred, average='macro'))\n",
    "    print('F1: ',f1_score(y_test, y_pred, average='macro'))\n",
    "    i = i+1"
   ]
  },
  {
   "cell_type": "code",
   "execution_count": 5,
   "metadata": {},
   "outputs": [
    {
     "name": "stdout",
     "output_type": "stream",
     "text": [
      "[[33  0  0]\n",
      " [ 0 32  5]\n",
      " [ 0  2 33]]\n",
      "Acc:  0.9333333333333333\n",
      "P:  0.9365325077399381\n",
      "R:  0.935907335907336\n",
      "F1:  0.9351726799151071\n"
     ]
    }
   ],
   "source": [
    "from sklearn import tree\n",
    "\n",
    "iris2 = datasets.load_iris()\n",
    "X = iris.data\n",
    "y = iris.target\n",
    "\n",
    "X_train, X_test, y_train, y_test = train_test_split(X, y, test_size=0.7)\n",
    "\n",
    "dTree = tree.DecisionTreeClassifier()\n",
    "dTree.fit(X_train, y_train)\n",
    "y_pred = dTree.predict(X_test)\n",
    "\n",
    "cnf_matrix = confusion_matrix(y_test, y_pred)\n",
    "print(cnf_matrix)\n",
    "\n",
    "print('Acc: ',accuracy_score(y_test, y_pred))\n",
    "print('P: ',precision_score(y_test, y_pred, average='macro'))\n",
    "print('R: ',recall_score(y_test, y_pred, average='macro'))\n",
    "print('F1: ',f1_score(y_test, y_pred, average='macro'))"
   ]
  },
  {
   "cell_type": "code",
   "execution_count": 7,
   "metadata": {},
   "outputs": [
    {
     "name": "stdout",
     "output_type": "stream",
     "text": [
      "\n",
      "\n",
      "Fold 1\n",
      "\n",
      "[[11  0  0]\n",
      " [ 0 14  2]\n",
      " [ 0  0 11]]\n",
      "Acc:  0.9473684210526315\n",
      "P:  0.9487179487179488\n",
      "R:  0.9583333333333334\n",
      "F1:  0.9500000000000001\n",
      "\n",
      "\n",
      "Fold 2\n",
      "\n",
      "[[13  0  0]\n",
      " [ 0 10  0]\n",
      " [ 0  1 14]]\n",
      "Acc:  0.9736842105263158\n",
      "P:  0.9696969696969697\n",
      "R:  0.9777777777777779\n",
      "F1:  0.9726327312534209\n",
      "\n",
      "\n",
      "Fold 3\n",
      "\n",
      "[[13  0  0]\n",
      " [ 0 11  0]\n",
      " [ 0  2 11]]\n",
      "Acc:  0.9459459459459459\n",
      "P:  0.9487179487179488\n",
      "R:  0.9487179487179488\n",
      "F1:  0.9444444444444443\n",
      "\n",
      "\n",
      "Fold 4\n",
      "\n",
      "[[13  0  0]\n",
      " [ 0 12  1]\n",
      " [ 0  0 11]]\n",
      "Acc:  0.972972972972973\n",
      "P:  0.9722222222222222\n",
      "R:  0.9743589743589745\n",
      "F1:  0.9721739130434782\n"
     ]
    },
    {
     "name": "stderr",
     "output_type": "stream",
     "text": [
      "C:\\Users\\maldo\\Anaconda3\\envs\\pt37\\lib\\site-packages\\sklearn\\linear_model\\_logistic.py:940: ConvergenceWarning: lbfgs failed to converge (status=1):\n",
      "STOP: TOTAL NO. of ITERATIONS REACHED LIMIT.\n",
      "\n",
      "Increase the number of iterations (max_iter) or scale the data as shown in:\n",
      "    https://scikit-learn.org/stable/modules/preprocessing.html\n",
      "Please also refer to the documentation for alternative solver options:\n",
      "    https://scikit-learn.org/stable/modules/linear_model.html#logistic-regression\n",
      "  extra_warning_msg=_LOGISTIC_SOLVER_CONVERGENCE_MSG)\n"
     ]
    }
   ],
   "source": [
    "from sklearn.model_selection import KFold\n",
    "kf = KFold(n_splits=4, shuffle=True)\n",
    "\n",
    "i = 1\n",
    "for train_index, test_index in kf.split(X):\n",
    "    #print(\"TRAIN:\", train_index, \"TEST:\", test_index)\n",
    "    print('\\n\\nFold {}\\n'.format(i))\n",
    "    X_train, X_test = X[train_index], X[test_index]\n",
    "    y_train, y_test = y[train_index], y[test_index]\n",
    "    reg_log = LogisticRegression(solver='lbfgs', multi_class='auto')\n",
    "    reg_log.fit(X_train, y_train)\n",
    "    y_pred = reg_log.predict(X_test)\n",
    "\n",
    "    cnf_matrix = confusion_matrix(y_test, y_pred)\n",
    "    print(cnf_matrix)\n",
    "\n",
    "    print('Acc: ',accuracy_score(y_test, y_pred))\n",
    "    print('P: ',precision_score(y_test, y_pred, average='macro'))\n",
    "    print('R: ',recall_score(y_test, y_pred, average='macro'))\n",
    "    print('F1: ',f1_score(y_test, y_pred, average='macro'))\n",
    "    i = i+1"
   ]
  },
  {
   "cell_type": "code",
   "execution_count": null,
   "metadata": {},
   "outputs": [],
   "source": []
  }
 ],
 "metadata": {
  "kernelspec": {
   "display_name": "Python 3",
   "language": "python",
   "name": "python3"
  },
  "language_info": {
   "codemirror_mode": {
    "name": "ipython",
    "version": 3
   },
   "file_extension": ".py",
   "mimetype": "text/x-python",
   "name": "python",
   "nbconvert_exporter": "python",
   "pygments_lexer": "ipython3",
   "version": "3.7.5"
  }
 },
 "nbformat": 4,
 "nbformat_minor": 2
}
